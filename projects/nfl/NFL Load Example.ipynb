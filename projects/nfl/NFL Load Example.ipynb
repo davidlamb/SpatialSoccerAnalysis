{
 "cells": [
  {
   "cell_type": "code",
   "execution_count": 1,
   "metadata": {},
   "outputs": [],
   "source": [
    "import geopandas as gpd\n",
    "from shapely.geometry.point import Point\n",
    "from shapely.geometry import LineString\n",
    "from shapely.geometry import Polygon\n",
    "import matplotlib.pyplot as plt\n",
    "import numpy as np\n",
    "import seaborn as sns\n",
    "import pandas as pd\n",
    "from shapely import affinity\n",
    "\n",
    "%load_ext autoreload\n",
    "%autoreload 2\n",
    "sns.set()\n",
    "%matplotlib inline"
   ]
  },
  {
   "cell_type": "code",
   "execution_count": 3,
   "metadata": {},
   "outputs": [],
   "source": [
    "from ssalib2 import SpatialSoccer\n",
    "sa = SpatialSoccer()"
   ]
  },
  {
   "cell_type": "markdown",
   "metadata": {},
   "source": [
    "# Load Games"
   ]
  },
  {
   "cell_type": "code",
   "execution_count": 4,
   "metadata": {},
   "outputs": [
    {
     "data": {
      "text/plain": [
       "{'match_id': 2018090600,\n",
       " 'home_team_id': 'PHI',\n",
       " 'home_team_name': 'PHI',\n",
       " 'home_team_score': 0,\n",
       " 'away_team_id': 'ATL',\n",
       " 'away_team_name': 'ATL',\n",
       " 'away_team_score': 0,\n",
       " 'season_id': 0,\n",
       " 'season_name': '',\n",
       " 'kick_off': '',\n",
       " 'match_date': '',\n",
       " 'match_date_time': datetime.datetime(2018, 9, 6, 20, 20),\n",
       " 'events': [],\n",
       " 'home_players': [],\n",
       " 'away_players': [],\n",
       " 'week': 1}"
      ]
     },
     "execution_count": 4,
     "metadata": {},
     "output_type": "execute_result"
    }
   ],
   "source": [
    "games = sa.get_match_list_from_source(\"nfl\\games.csv\",SpatialSoccer.NFL_DATA)\n",
    "vars(games[0])"
   ]
  },
  {
   "cell_type": "markdown",
   "metadata": {},
   "source": [
    "# Load Events from Games (plays)\n",
    "\n",
    "X and Y data is tricky here since there isn't really a measure of the start of the play and end of the play. What I've done is placed all events in the middle of the y axis and then add then find the absolute yard line. As a warning, this does not really work well."
   ]
  },
  {
   "cell_type": "code",
   "execution_count": 5,
   "metadata": {},
   "outputs": [
    {
     "data": {
      "text/html": [
       "<div>\n",
       "<style scoped>\n",
       "    .dataframe tbody tr th:only-of-type {\n",
       "        vertical-align: middle;\n",
       "    }\n",
       "\n",
       "    .dataframe tbody tr th {\n",
       "        vertical-align: top;\n",
       "    }\n",
       "\n",
       "    .dataframe thead th {\n",
       "        text-align: right;\n",
       "    }\n",
       "</style>\n",
       "<table border=\"1\" class=\"dataframe\">\n",
       "  <thead>\n",
       "    <tr style=\"text-align: right;\">\n",
       "      <th></th>\n",
       "      <th>start_x</th>\n",
       "      <th>start_y</th>\n",
       "      <th>end_x</th>\n",
       "      <th>end_y</th>\n",
       "      <th>is_goal</th>\n",
       "      <th>period</th>\n",
       "      <th>match_id</th>\n",
       "      <th>xg</th>\n",
       "      <th>event_id</th>\n",
       "      <th>event_name</th>\n",
       "      <th>...</th>\n",
       "      <th>event_player</th>\n",
       "      <th>possession_id</th>\n",
       "      <th>timestamp</th>\n",
       "      <th>body_part</th>\n",
       "      <th>tags</th>\n",
       "      <th>original_json</th>\n",
       "      <th>event_time</th>\n",
       "      <th>start_point</th>\n",
       "      <th>end_point</th>\n",
       "      <th>geometry</th>\n",
       "    </tr>\n",
       "  </thead>\n",
       "  <tbody>\n",
       "    <tr>\n",
       "      <th>0</th>\n",
       "      <td>100.0</td>\n",
       "      <td>0.0</td>\n",
       "      <td>110.0</td>\n",
       "      <td>0.0</td>\n",
       "      <td>None</td>\n",
       "      <td>1</td>\n",
       "      <td>2018090600</td>\n",
       "      <td>None</td>\n",
       "      <td>75</td>\n",
       "      <td>play_type_pass</td>\n",
       "      <td>...</td>\n",
       "      <td></td>\n",
       "      <td>1</td>\n",
       "      <td>None</td>\n",
       "      <td>None</td>\n",
       "      <td>None</td>\n",
       "      <td>{'gameId': 2018090600, 'playId': 75, 'playDesc...</td>\n",
       "      <td>None</td>\n",
       "      <td>POINT (100 0)</td>\n",
       "      <td>POINT (110 0)</td>\n",
       "      <td>POINT (100.00000 0.00000)</td>\n",
       "    </tr>\n",
       "    <tr>\n",
       "      <th>1</th>\n",
       "      <td>59.0</td>\n",
       "      <td>0.0</td>\n",
       "      <td>59.0</td>\n",
       "      <td>0.0</td>\n",
       "      <td>None</td>\n",
       "      <td>1</td>\n",
       "      <td>2018090600</td>\n",
       "      <td>None</td>\n",
       "      <td>146</td>\n",
       "      <td>play_type_pass</td>\n",
       "      <td>...</td>\n",
       "      <td></td>\n",
       "      <td>1</td>\n",
       "      <td>None</td>\n",
       "      <td>None</td>\n",
       "      <td>None</td>\n",
       "      <td>{'gameId': 2018090600, 'playId': 146, 'playDes...</td>\n",
       "      <td>None</td>\n",
       "      <td>POINT (59 0)</td>\n",
       "      <td>POINT (59 0)</td>\n",
       "      <td>POINT (59.00000 0.00000)</td>\n",
       "    </tr>\n",
       "    <tr>\n",
       "      <th>2</th>\n",
       "      <td>59.0</td>\n",
       "      <td>0.0</td>\n",
       "      <td>59.0</td>\n",
       "      <td>0.0</td>\n",
       "      <td>None</td>\n",
       "      <td>1</td>\n",
       "      <td>2018090600</td>\n",
       "      <td>None</td>\n",
       "      <td>168</td>\n",
       "      <td>play_type_pass</td>\n",
       "      <td>...</td>\n",
       "      <td></td>\n",
       "      <td>2</td>\n",
       "      <td>None</td>\n",
       "      <td>None</td>\n",
       "      <td>None</td>\n",
       "      <td>{'gameId': 2018090600, 'playId': 168, 'playDes...</td>\n",
       "      <td>None</td>\n",
       "      <td>POINT (59 0)</td>\n",
       "      <td>POINT (59 0)</td>\n",
       "      <td>POINT (59.00000 0.00000)</td>\n",
       "    </tr>\n",
       "    <tr>\n",
       "      <th>3</th>\n",
       "      <td>59.0</td>\n",
       "      <td>0.0</td>\n",
       "      <td>92.0</td>\n",
       "      <td>0.0</td>\n",
       "      <td>None</td>\n",
       "      <td>1</td>\n",
       "      <td>2018090600</td>\n",
       "      <td>None</td>\n",
       "      <td>190</td>\n",
       "      <td>play_type_pass</td>\n",
       "      <td>...</td>\n",
       "      <td></td>\n",
       "      <td>3</td>\n",
       "      <td>None</td>\n",
       "      <td>None</td>\n",
       "      <td>None</td>\n",
       "      <td>{'gameId': 2018090600, 'playId': 190, 'playDes...</td>\n",
       "      <td>None</td>\n",
       "      <td>POINT (59 0)</td>\n",
       "      <td>POINT (92 0)</td>\n",
       "      <td>POINT (59.00000 0.00000)</td>\n",
       "    </tr>\n",
       "    <tr>\n",
       "      <th>4</th>\n",
       "      <td>21.0</td>\n",
       "      <td>0.0</td>\n",
       "      <td>21.0</td>\n",
       "      <td>0.0</td>\n",
       "      <td>None</td>\n",
       "      <td>1</td>\n",
       "      <td>2018090600</td>\n",
       "      <td>None</td>\n",
       "      <td>256</td>\n",
       "      <td>play_type_pass</td>\n",
       "      <td>...</td>\n",
       "      <td></td>\n",
       "      <td>3</td>\n",
       "      <td>None</td>\n",
       "      <td>None</td>\n",
       "      <td>None</td>\n",
       "      <td>{'gameId': 2018090600, 'playId': 256, 'playDes...</td>\n",
       "      <td>None</td>\n",
       "      <td>POINT (21 0)</td>\n",
       "      <td>POINT (21 0)</td>\n",
       "      <td>POINT (21.00000 0.00000)</td>\n",
       "    </tr>\n",
       "  </tbody>\n",
       "</table>\n",
       "<p>5 rows × 23 columns</p>\n",
       "</div>"
      ],
      "text/plain": [
       "   start_x  start_y  end_x  end_y is_goal  period    match_id    xg  event_id  \\\n",
       "0    100.0      0.0  110.0    0.0    None       1  2018090600  None        75   \n",
       "1     59.0      0.0   59.0    0.0    None       1  2018090600  None       146   \n",
       "2     59.0      0.0   59.0    0.0    None       1  2018090600  None       168   \n",
       "3     59.0      0.0   92.0    0.0    None       1  2018090600  None       190   \n",
       "4     21.0      0.0   21.0    0.0    None       1  2018090600  None       256   \n",
       "\n",
       "       event_name  ... event_player possession_id timestamp body_part  tags  \\\n",
       "0  play_type_pass  ...                          1      None      None  None   \n",
       "1  play_type_pass  ...                          1      None      None  None   \n",
       "2  play_type_pass  ...                          2      None      None  None   \n",
       "3  play_type_pass  ...                          3      None      None  None   \n",
       "4  play_type_pass  ...                          3      None      None  None   \n",
       "\n",
       "                                       original_json event_time  \\\n",
       "0  {'gameId': 2018090600, 'playId': 75, 'playDesc...       None   \n",
       "1  {'gameId': 2018090600, 'playId': 146, 'playDes...       None   \n",
       "2  {'gameId': 2018090600, 'playId': 168, 'playDes...       None   \n",
       "3  {'gameId': 2018090600, 'playId': 190, 'playDes...       None   \n",
       "4  {'gameId': 2018090600, 'playId': 256, 'playDes...       None   \n",
       "\n",
       "     start_point      end_point                   geometry  \n",
       "0  POINT (100 0)  POINT (110 0)  POINT (100.00000 0.00000)  \n",
       "1   POINT (59 0)   POINT (59 0)   POINT (59.00000 0.00000)  \n",
       "2   POINT (59 0)   POINT (59 0)   POINT (59.00000 0.00000)  \n",
       "3   POINT (59 0)   POINT (92 0)   POINT (59.00000 0.00000)  \n",
       "4   POINT (21 0)   POINT (21 0)   POINT (21.00000 0.00000)  \n",
       "\n",
       "[5 rows x 23 columns]"
      ]
     },
     "execution_count": 5,
     "metadata": {},
     "output_type": "execute_result"
    }
   ],
   "source": [
    "#Loads the plays from the first game between Phi and Atl\n",
    "df = sa.load_events_from_match(\"nfl/plays.csv\",SpatialSoccer.NFL_DATA,games[0])\n",
    "df.head()"
   ]
  },
  {
   "cell_type": "markdown",
   "metadata": {},
   "source": [
    "# Load Tracking Data for a game during a given game week"
   ]
  },
  {
   "cell_type": "code",
   "execution_count": 6,
   "metadata": {},
   "outputs": [],
   "source": [
    "gdf = sa.load_nfl_tracking(\"nfl\",games[0])"
   ]
  },
  {
   "cell_type": "markdown",
   "metadata": {},
   "source": [
    "## Plot on a field"
   ]
  },
  {
   "cell_type": "code",
   "execution_count": 15,
   "metadata": {},
   "outputs": [
    {
     "data": {
      "image/png": "[encoded data removed]",
      "text/plain": [
       "<Figure size 720x1080 with 1 Axes>"
      ]
     },
     "metadata": {
      "needs_background": "light"
     },
     "output_type": "display_data"
    }
   ],
   "source": [
    "fig = plt.figure(figsize=(10,15))\n",
    "ax = fig.add_subplot(111)\n",
    "ax.set_aspect(\"equal\")\n",
    "SpatialSoccer.build_plot_field_nfl(ax)\n",
    "gdf[(gdf['playId']==75)&(gdf['team']=='home')].plot(ax=ax,color=\"red\")\n",
    "gdf[(gdf['playId']==75)&(gdf['team']=='away')].plot(ax=ax,color=\"blue\")\n",
    "gdf[(gdf['playId']==75)&(gdf['position']==\"Ball\")].plot(ax=ax,color=\"Black\");"
   ]
  }
 ],
 "metadata": {
  "kernelspec": {
   "display_name": "Python [conda env:geospatial] *",
   "language": "python",
   "name": "conda-env-geospatial-py"
  },
  "language_info": {
   "codemirror_mode": {
    "name": "ipython",
    "version": 3
   },
   "file_extension": ".py",
   "mimetype": "text/x-python",
   "name": "python",
   "nbconvert_exporter": "python",
   "pygments_lexer": "ipython3",
   "version": "3.7.8"
  }
 },
 "nbformat": 4,
 "nbformat_minor": 4
}
